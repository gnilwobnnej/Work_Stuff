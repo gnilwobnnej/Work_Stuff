{
  "nbformat": 4,
  "nbformat_minor": 0,
  "metadata": {
    "colab": {
      "provenance": [],
      "authorship_tag": "ABX9TyNEEnB2SsSA/LVEKNRMytVS"
    },
    "kernelspec": {
      "name": "python3",
      "display_name": "Python 3"
    },
    "language_info": {
      "name": "python"
    }
  },
  "cells": [
    {
      "cell_type": "code",
      "execution_count": 27,
      "metadata": {
        "id": "qxec9AiNaBlE"
      },
      "outputs": [],
      "source": [
        "import pandas as pd"
      ]
    },
    {
      "cell_type": "code",
      "source": [
        "# This is the name of the CSV file\n",
        "\n",
        "preorder_df = pd.read_csv(\"preorders.csv\")"
      ],
      "metadata": {
        "id": "wTeCY9uiaEzt"
      },
      "execution_count": 28,
      "outputs": []
    },
    {
      "cell_type": "code",
      "source": [
        "#Change the productName to what you're looking for and change the itemPrice to the listed price of the item.\n",
        "\n",
        "productName= \"1:4 Scale Rocky Statue\"\n",
        "itemPrice = 599"
      ],
      "metadata": {
        "id": "_86GlQY2aHfb"
      },
      "execution_count": 29,
      "outputs": []
    },
    {
      "cell_type": "code",
      "source": [
        "#filters the dataframe with the name of the product\n",
        "item = preorder_df.loc[preorder_df['itemName']== productName, ['orderNumber', 'customerFirstnameBillingAddressField', 'customerLastnameBillingAddressField', 'itemPrice','itemQuantity', 'itemName']]\n",
        "\n",
        "#divides the items with those who paid dealer prices and those who did not.\n",
        "item_customer = item.loc[item['itemPrice']> itemPrice]\n",
        "item_dealer = item.loc[item['itemPrice']<  itemPrice]\n",
        "\n",
        "#filter out the sideshow and diamond orders from the dealer orders\n",
        "sideshow = item_dealer.loc[item_dealer['customerLastnameBillingAddressField']== 'Sideshow Collectibles']\n",
        "diamond = item_dealer.loc[item_dealer['customerFirstnameBillingAddressField']== 'DIAMOND COMIC DISTRIBUTORS']\n",
        "\n",
        "#count the sideshow and dealer orders\n",
        "sideshow_count = sideshow['itemQuantity'].sum()\n",
        "diamond_count = diamond['itemQuantity'].sum()\n",
        "\n",
        "#counts the customer and the dealer orders as a whole\n",
        "total_customer = item_customer['itemQuantity'].sum()\n",
        "total_dealer = item_dealer['itemQuantity'].sum()\n",
        "\n",
        "#Subtracts the diamond and the sideshow orders from the dealer orders\n",
        "dealer_count = total_dealer - (sideshow_count + diamond_count)\n",
        "\n",
        "#prints everything out nicely\n",
        "print(f\"Total Number of retail customers: {total_customer}\")\n",
        "print(f\"Total Number of Sideshow orders: {sideshow_count}\")\n",
        "print(f\"Total Number of Diamond orders: {diamond_count}\")\n",
        "print(f\"Total Number of Dealer orders: {dealer_count}\")"
      ],
      "metadata": {
        "colab": {
          "base_uri": "https://localhost:8080/"
        },
        "id": "NSbgZl_9aNH9",
        "outputId": "cb03596d-3c7a-4178-cdf5-826079d41166"
      },
      "execution_count": 47,
      "outputs": [
        {
          "output_type": "stream",
          "name": "stdout",
          "text": [
            "Total Number of retail customers: 0.0\n",
            "Total Number of Sideshow orders: 9.0\n",
            "Total Number of Diamond orders: 11.0\n",
            "Total Number of Dealer orders: 5.0\n"
          ]
        }
      ]
    },
    {
      "cell_type": "markdown",
      "source": [
        "# **From here on is just data checks**"
      ],
      "metadata": {
        "id": "pXPHNJWKwTMb"
      }
    },
    {
      "cell_type": "code",
      "source": [
        "print(total_dealer)"
      ],
      "metadata": {
        "colab": {
          "base_uri": "https://localhost:8080/"
        },
        "id": "C3iaOiBsrkxi",
        "outputId": "37079d64-aaea-4b2c-dc19-0e29b8070aee"
      },
      "execution_count": 48,
      "outputs": [
        {
          "output_type": "stream",
          "name": "stdout",
          "text": [
            "25.0\n"
          ]
        }
      ]
    },
    {
      "cell_type": "code",
      "source": [
        "print(item_customer)"
      ],
      "metadata": {
        "colab": {
          "base_uri": "https://localhost:8080/"
        },
        "id": "mG82vcY0bTxw",
        "outputId": "5f8f25b0-67bb-433c-f25d-d6374c268b07"
      },
      "execution_count": 49,
      "outputs": [
        {
          "output_type": "stream",
          "name": "stdout",
          "text": [
            "Empty DataFrame\n",
            "Columns: [orderNumber, customerFirstnameBillingAddressField, customerLastnameBillingAddressField, itemPrice, itemQuantity, itemName]\n",
            "Index: []\n"
          ]
        }
      ]
    },
    {
      "cell_type": "code",
      "source": [
        "print(item_dealer)"
      ],
      "metadata": {
        "colab": {
          "base_uri": "https://localhost:8080/"
        },
        "id": "UihWfxeublBa",
        "outputId": "4a4838fc-12ea-4561-cebf-29accff8a001"
      },
      "execution_count": 50,
      "outputs": [
        {
          "output_type": "stream",
          "name": "stdout",
          "text": [
            "    orderNumber customerFirstnameBillingAddressField  \\\n",
            "22        38912                               Jerome   \n",
            "57        38595                                 Joel   \n",
            "59        38322                    Victoria Hamilton   \n",
            "60        38321           DIAMOND COMIC DISTRIBUTORS   \n",
            "63        38287                                 Joel   \n",
            "\n",
            "   customerLastnameBillingAddressField  itemPrice  itemQuantity  \\\n",
            "22                              Cooper      420.0           2.0   \n",
            "57                              Boblit      420.0           1.0   \n",
            "59               Sideshow Collectibles      300.0           9.0   \n",
            "60              Attn: Accounts Payable      300.0          11.0   \n",
            "63                              Boblit      420.0           2.0   \n",
            "\n",
            "                  itemName  \n",
            "22  1:4 Scale Rocky Statue  \n",
            "57  1:4 Scale Rocky Statue  \n",
            "59  1:4 Scale Rocky Statue  \n",
            "60  1:4 Scale Rocky Statue  \n",
            "63  1:4 Scale Rocky Statue  \n"
          ]
        }
      ]
    },
    {
      "cell_type": "code",
      "source": [
        "print(sideshow)"
      ],
      "metadata": {
        "colab": {
          "base_uri": "https://localhost:8080/"
        },
        "id": "dDpoMdB6cVVX",
        "outputId": "add3d2c8-3ff9-4ace-8b01-3afedc22abb8"
      },
      "execution_count": 51,
      "outputs": [
        {
          "output_type": "stream",
          "name": "stdout",
          "text": [
            "    orderNumber customerFirstnameBillingAddressField  \\\n",
            "59        38322                    Victoria Hamilton   \n",
            "\n",
            "   customerLastnameBillingAddressField  itemPrice  itemQuantity  \\\n",
            "59               Sideshow Collectibles      300.0           9.0   \n",
            "\n",
            "                  itemName  \n",
            "59  1:4 Scale Rocky Statue  \n"
          ]
        }
      ]
    },
    {
      "cell_type": "code",
      "source": [
        "print(diamond)"
      ],
      "metadata": {
        "colab": {
          "base_uri": "https://localhost:8080/"
        },
        "id": "b5xQoFqgsePV",
        "outputId": "161f021f-7184-4658-d3d4-aadb22942308"
      },
      "execution_count": 52,
      "outputs": [
        {
          "output_type": "stream",
          "name": "stdout",
          "text": [
            "    orderNumber customerFirstnameBillingAddressField  \\\n",
            "60        38321           DIAMOND COMIC DISTRIBUTORS   \n",
            "\n",
            "   customerLastnameBillingAddressField  itemPrice  itemQuantity  \\\n",
            "60              Attn: Accounts Payable      300.0          11.0   \n",
            "\n",
            "                  itemName  \n",
            "60  1:4 Scale Rocky Statue  \n"
          ]
        }
      ]
    }
  ]
}