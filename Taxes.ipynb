{
  "cells": [
    {
      "cell_type": "code",
      "execution_count": 1,
      "id": "7d66a7ea",
      "metadata": {
        "id": "7d66a7ea"
      },
      "outputs": [],
      "source": [
        "##start here and press shift enter to run line by line\n",
        "import pandas as pd\n",
        "tax = .065"
      ]
    },
    {
      "cell_type": "code",
      "execution_count": 3,
      "id": "a5b64ed9",
      "metadata": {
        "id": "a5b64ed9"
      },
      "outputs": [],
      "source": [
        "##imports csv file - change csv file name if needed.\n",
        "\n",
        "taxes_df = pd.read_csv(\n",
        "    \"taxes.csv\",\n",
        "    encoding='unicode_escape')"
      ]
    },
    {
      "cell_type": "code",
      "execution_count": 4,
      "id": "ebb3ffd1",
      "metadata": {
        "id": "ebb3ffd1"
      },
      "outputs": [],
      "source": [
        "##sorts out just xcart orders and the columns that are needed\n",
        "\n",
        "xcart = taxes_df.loc[taxes_df['integrationName'] == 'XCart', ['orderNumber', 'toState', 'itemTitle', 'itemQuantity', 'itemPrice']]"
      ]
    },
    {
      "cell_type": "code",
      "execution_count": 5,
      "id": "f5badcfd",
      "metadata": {
        "id": "f5badcfd"
      },
      "outputs": [],
      "source": [
        "##adds column named sum and multiplies quantity by the item price and saves the information to a new csv, change file name as needed\n",
        "\n",
        "xcart['sum'] = xcart.itemQuantity * xcart.itemPrice\n",
        "\n",
        "xcart.to_excel('march.xlsx', index= True)"
      ]
    },
    {
      "cell_type": "code",
      "source": [
        "print(xcart)\n"
      ],
      "metadata": {
        "colab": {
          "base_uri": "https://localhost:8080/"
        },
        "id": "A5iaI8UQfc--",
        "outputId": "432f17ea-99ff-43aa-ea60-d17cce75f9c7"
      },
      "id": "A5iaI8UQfc--",
      "execution_count": 6,
      "outputs": [
        {
          "output_type": "stream",
          "name": "stdout",
          "text": [
            "   orderNumber toState                                          itemTitle  \\\n",
            "3     =\"39029\"      TX                             Tomenosuke Blaster Air   \n",
            "4     =\"37087\"      FL                HCG Exclusive Predator Plasmacaster   \n",
            "6     =\"39027\"      ON                             Tomenosuke Blaster Air   \n",
            "7     =\"37692\"      AB   HCG Exclusive Predator 2 Smart Disc Prop Replica   \n",
            "8     =\"37692\"      AB  HCG Exclusive Predator 2 Life-Size Netgun and ...   \n",
            "..         ...     ...                                                ...   \n",
            "92    =\"38955\"      CA                             Tomenosuke Blaster Air   \n",
            "93    =\"38950\"      CA                             Tomenosuke Blaster Air   \n",
            "94    =\"38947\"      VA                             Tomenosuke Blaster Air   \n",
            "95    =\"38944\"      CA                             Tomenosuke Blaster Air   \n",
            "96    =\"38941\"      MN                             Tomenosuke Blaster Air   \n",
            "\n",
            "    itemQuantity  itemPrice      sum  \n",
            "3            1.0    1599.95  1599.95  \n",
            "4            2.0     699.95  1399.90  \n",
            "6            1.0    1599.95  1599.95  \n",
            "7            1.0     799.95   799.95  \n",
            "8            1.0     599.95   599.95  \n",
            "..           ...        ...      ...  \n",
            "92           1.0    1599.95  1599.95  \n",
            "93           1.0    1599.95  1599.95  \n",
            "94           1.0    1599.95  1599.95  \n",
            "95           2.0    1599.95  3199.90  \n",
            "96           1.0    1599.95  1599.95  \n",
            "\n",
            "[78 rows x 6 columns]\n"
          ]
        }
      ]
    },
    {
      "cell_type": "code",
      "execution_count": 7,
      "id": "6fe3bb43",
      "metadata": {
        "id": "6fe3bb43",
        "outputId": "3493d456-1100-4db0-9cfc-d6c3dbca393d",
        "colab": {
          "base_uri": "https://localhost:8080/"
        }
      },
      "outputs": [
        {
          "output_type": "stream",
          "name": "stdout",
          "text": [
            "72656.55\n"
          ]
        }
      ],
      "source": [
        "##adds the sum up of all the orders and prints the sales total below\n",
        "\n",
        "total_sales = xcart['sum'].sum().astype(float).round(2)\n",
        "print(total_sales)"
      ]
    },
    {
      "cell_type": "code",
      "execution_count": 8,
      "id": "d60b9a53",
      "metadata": {
        "id": "d60b9a53"
      },
      "outputs": [],
      "source": [
        "##Filters out the florida orders and displays shippers reference and item price columns\n",
        "\n",
        "florida_xcart = xcart.loc[xcart['toState']=='FL', ['orderNumber', 'itemPrice', 'sum']]"
      ]
    },
    {
      "cell_type": "code",
      "execution_count": 9,
      "id": "778c6314",
      "metadata": {
        "id": "778c6314",
        "outputId": "9d4fc34d-6025-48a3-ad61-615f691cfa23",
        "colab": {
          "base_uri": "https://localhost:8080/"
        }
      },
      "outputs": [
        {
          "output_type": "stream",
          "name": "stdout",
          "text": [
            "   orderNumber  itemPrice      sum     taxes\n",
            "4     =\"37087\"     699.95  1399.90  90.99350\n",
            "46    =\"37103\"     699.95   699.95  45.49675\n"
          ]
        }
      ],
      "source": [
        "##adds a taxes column and multiplies the sum price by the taxes\n",
        "\n",
        "florida_xcart['taxes'] = florida_xcart['sum'] * tax\n",
        "\n",
        "print(florida_xcart)"
      ]
    },
    {
      "cell_type": "code",
      "execution_count": 11,
      "id": "76fc6bb0",
      "metadata": {
        "id": "76fc6bb0",
        "colab": {
          "base_uri": "https://localhost:8080/"
        },
        "outputId": "739a1140-50c5-4fd3-cde8-bef13c4eabca"
      },
      "outputs": [
        {
          "output_type": "stream",
          "name": "stdout",
          "text": [
            "   orderNumber                                          itemTitle\n",
            "34    =\"37151\"     HCG Exclusive Predator Bio Helmet Prop Replica\n",
            "36    =\"37151\"                HCG Exclusive Predator Plasmacaster\n",
            "35    =\"37151\"  HCG Exclusive Predator 2 Life-Size Netgun and ...\n",
            "55    =\"37177\"                            Predator 2 Plasmacaster\n",
            "54    =\"37177\"                              Predator Plasmacaster\n",
            "53    =\"37177\"                              Predator Plasmacaster\n",
            "52    =\"37177\"                              Predator Plasmacaster\n",
            "51    =\"37177\"  Predator 2 Life-Size Netgun and Speargun Proje...\n",
            "32    =\"37377\"                                                NaN\n",
            "31    =\"37377\"                HCG Exclusive Predator Plasmacaster\n",
            "7     =\"37692\"   HCG Exclusive Predator 2 Smart Disc Prop Replica\n",
            "11    =\"37692\"                         SDCC Exclusive Dog Tag Set\n",
            "10    =\"37692\"        Colonial Marines Dog Tags - Second Wave Set\n",
            "9     =\"37692\"         Colonial Marines Dog Tags - First Wave Set\n",
            "8     =\"37692\"  HCG Exclusive Predator 2 Life-Size Netgun and ...\n",
            "58    =\"37761\"                HCG Exclusive Predator Plasmacaster\n",
            "59    =\"37761\"     HCG Exclusive Predator Bio Helmet Prop Replica\n",
            "29    =\"38111\"                HCG Exclusive Predator Plasmacaster\n",
            "28    =\"38111\"     HCG Exclusive Predator Bio Helmet Prop Replica\n",
            "27    =\"38111\"   HCG Exclusive Predator 2 Smart Disc Prop Replica\n",
            "30    =\"38111\"  HCG Exclusive Predator 2 Life-Size Netgun and ...\n",
            "75    =\"38995\"                             Tomenosuke Blaster Air\n",
            "76    =\"38995\"                     Tomenosuke Compact Blaster Kit\n"
          ]
        }
      ],
      "source": [
        "duplicate_order = xcart[xcart.orderNumber.duplicated(keep=False)].sort_values(\"orderNumber\")\n",
        "duplicate_order = duplicate_order[['orderNumber', 'itemTitle']]\n",
        "print(duplicate_order)"
      ]
    },
    {
      "cell_type": "code",
      "source": [],
      "metadata": {
        "id": "AQcSVtwKNnnB"
      },
      "id": "AQcSVtwKNnnB",
      "execution_count": null,
      "outputs": []
    }
  ],
  "metadata": {
    "kernelspec": {
      "display_name": "Python 3 (ipykernel)",
      "language": "python",
      "name": "python3"
    },
    "language_info": {
      "codemirror_mode": {
        "name": "ipython",
        "version": 3
      },
      "file_extension": ".py",
      "mimetype": "text/x-python",
      "name": "python",
      "nbconvert_exporter": "python",
      "pygments_lexer": "ipython3",
      "version": "3.11.4"
    },
    "colab": {
      "provenance": []
    }
  },
  "nbformat": 4,
  "nbformat_minor": 5
}